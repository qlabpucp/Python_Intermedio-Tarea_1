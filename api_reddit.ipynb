{
 "cells": [
  {
   "cell_type": "markdown",
   "id": "a447dd3b",
   "metadata": {},
   "source": [
    "# Exercise 1: Reddit API Data Collection"
   ]
  },
  {
   "cell_type": "markdown",
   "id": "2fa73c6e",
   "metadata": {},
   "source": [
    "Librerías"
   ]
  },
  {
   "cell_type": "code",
   "execution_count": 20,
   "id": "48830049",
   "metadata": {},
   "outputs": [],
   "source": [
    "import praw\n",
    "import pandas as pd\n",
    "import os\n",
    "from dotenv import load_dotenv"
   ]
  },
  {
   "cell_type": "markdown",
   "id": "87c77175",
   "metadata": {},
   "source": [
    "#### Part 1: Reddit API Setup"
   ]
  },
  {
   "cell_type": "code",
   "execution_count": 21,
   "id": "3e88b4ad",
   "metadata": {},
   "outputs": [],
   "source": [
    "reddit = praw.Reddit(\n",
    "    client_id=\"Zq-6-kuY12svcQqLLtyAJg\",\n",
    "    client_secret=\"ezV1Ym44_cTogMC25nxUvAJuuRRbqw\",\n",
    "    user_agent=f\"Python:webscrapingProject:v1.0 (by /u/QLAB)\",\n",
    ")"
   ]
  },
  {
   "cell_type": "markdown",
   "id": "0cec2c42",
   "metadata": {},
   "source": [
    "#### Part 2: Collect Data and Storage"
   ]
  },
  {
   "cell_type": "markdown",
   "id": "9380e88a",
   "metadata": {},
   "source": [
    "**Parametros**  \n",
    "Definición de subreddits número de posts"
   ]
  },
  {
   "cell_type": "code",
   "execution_count": 22,
   "id": "e9a3b6b3",
   "metadata": {},
   "outputs": [],
   "source": [
    "# subreddits\n",
    "subReddits = [\"politics\", \"PoliticalDiscussion\", \"worldnews\"]\n",
    "\n",
    "# cantidad de posts\n",
    "nPost = 20"
   ]
  },
  {
   "cell_type": "markdown",
   "id": "c48f3244",
   "metadata": {},
   "source": [
    "**Obtención de Datos**"
   ]
  },
  {
   "cell_type": "code",
   "execution_count": 24,
   "id": "67e7bc62",
   "metadata": {},
   "outputs": [
    {
     "name": "stdout",
     "output_type": "stream",
     "text": [
      "  subreddit category                                              title  \\\n",
      "0  politics      top  Megathread: Joe Biden Projected to Defeat Pres...   \n",
      "1  politics      top  Mitch McConnell Will Lose Control Of The Senat...   \n",
      "2  politics      top  Megathread: House Votes to Impeach President D...   \n",
      "3  politics      top  Trump Threatens to ‘Leave the Country’ if He L...   \n",
      "4  politics      top  Demands for Kushner to Resign Over 'Staggering...   \n",
      "\n",
      "    score  num_comments      id  \\\n",
      "0  214313         80928  jptq5n   \n",
      "1  156756         10099  krntg6   \n",
      "2  147733         50628  ecm1zg   \n",
      "3  135302         16093  jcm5dz   \n",
      "4  129739          6746  i19sjg   \n",
      "\n",
      "                                                 url  \n",
      "0  https://www.reddit.com/r/politics/comments/jpt...  \n",
      "1  https://www.buzzfeednews.com/article/paulmcleo...  \n",
      "2  https://www.reddit.com/r/politics/comments/ecm...  \n",
      "3  https://www.thedailybeast.com/trump-threatens-...  \n",
      "4  https://www.commondreams.org/news/2020/07/31/d...  \n"
     ]
    }
   ],
   "source": [
    "DATA = [] # list de resultados\n",
    "\n",
    "for sub in subReddits:  # por cada subreddit\n",
    "    subreddit = reddit.subreddit(sub)\n",
    "\n",
    "    # Top posts\n",
    "    for post in subreddit.top(limit=nPost):\n",
    "        DATA.append({\n",
    "        \"subreddit\": sub,\n",
    "        \"category\": \"top\",\n",
    "        \"title\": post.title,\n",
    "        \"score\": post.score,\n",
    "        \"num_comments\": post.num_comments,\n",
    "        \"id\": post.id,\n",
    "        \"url\": post.url\n",
    "    })\n",
    "dfPost = pd.DataFrame(DATA) \n",
    "print(dfPost.head())\n",
    "\n",
    "# Exportar\n",
    "dfPost.to_csv(\"./out/reddit_posts.csv\", index=False, encoding=\"utf-8\")"
   ]
  },
  {
   "cell_type": "markdown",
   "id": "c63df9e6",
   "metadata": {},
   "source": [
    "**Obtención de Comentarios**"
   ]
  },
  {
   "cell_type": "markdown",
   "id": "66a8e898",
   "metadata": {},
   "source": [
    "2. El primer for recorre los posts que se tienen en post_data. Luego se crea (y obtiene desde la API) un objeto Submission de PRAW para cada postc usando su id; este objeto tiene atributos y métodos que describen y permiten interactuar con el post.\n",
    "\n",
    "Utilizamos el atributo comments del objeto post para acceder a los comentarios del post. Especificamos el método replace_more() para que los placeholders se reemplacen por comentarios reales. Indicamos limit=0 para no solicitar que se descarguen más comentarios anidados, es decir, cargamos solo los comentarios principales\n",
    "\n",
    "El segundo for itera para cada comentario de los 5 primeros comentarios\n",
    "- [:5] toma los primeros 5 comentarios de primer nivel según el orden actual de comentarios (“best” es el orden predeterminado, mezcla de relevancia + votos)"
   ]
  },
  {
   "cell_type": "code",
   "execution_count": null,
   "id": "fbcf8492",
   "metadata": {},
   "outputs": [
    {
     "name": "stdout",
     "output_type": "stream",
     "text": [
      "  post_id                                               body  score\n",
      "0  jptq5n  EVERYONE WHO TURNED OUT IN 2020 NEEDS TO COME ...   2910\n",
      "1  jptq5n  Never won the popular vote, got impeached, los...   2682\n",
      "2  jptq5n  As German I understand how a country can be sc...   2446\n",
      "3  jptq5n  Let us not soon forget that this victory was n...  10374\n",
      "4  jptq5n  Trump is living the 2020 experience - got Covi...   6071\n"
     ]
    }
   ],
   "source": [
    "commentDATA = [] # lista para resultados\n",
    "\n",
    "for post_info in DATA:    \n",
    "    post = reddit.submission(id=post_info[\"id\"])    \n",
    "    post.comments.replace_more(limit=0) # 0: solo comentario principal\n",
    "    \n",
    "    for comm in post.comments[:5]:\n",
    "        commentDATA.append({\n",
    "            \"post_id\": post.id,\n",
    "            \"body\": comm.body,\n",
    "            \"score\": comm.score\n",
    "        })\n",
    "\n",
    "dfComments = pd.DataFrame(commentDATA)\n",
    "\n",
    "# Exportar\n",
    "dfComments.to_csv(\"./out/reddit_comments.csv\", index=False, encoding=\"utf-8\")\n",
    "\n",
    "print(dfComments.head())"
   ]
  },
  {
   "cell_type": "markdown",
   "id": "d8c26d79",
   "metadata": {},
   "source": [
    "**Merge**  \n",
    "Linkear cada comentario su parent post."
   ]
  },
  {
   "cell_type": "code",
   "execution_count": null,
   "id": "04824bcb",
   "metadata": {},
   "outputs": [
    {
     "data": {
      "text/html": [
       "<div>\n",
       "<style scoped>\n",
       "    .dataframe tbody tr th:only-of-type {\n",
       "        vertical-align: middle;\n",
       "    }\n",
       "\n",
       "    .dataframe tbody tr th {\n",
       "        vertical-align: top;\n",
       "    }\n",
       "\n",
       "    .dataframe thead th {\n",
       "        text-align: right;\n",
       "    }\n",
       "</style>\n",
       "<table border=\"1\" class=\"dataframe\">\n",
       "  <thead>\n",
       "    <tr style=\"text-align: right;\">\n",
       "      <th></th>\n",
       "      <th>post_id</th>\n",
       "      <th>body</th>\n",
       "      <th>score_x</th>\n",
       "      <th>subreddit</th>\n",
       "      <th>category</th>\n",
       "      <th>title</th>\n",
       "      <th>score_y</th>\n",
       "      <th>num_comments</th>\n",
       "      <th>id</th>\n",
       "      <th>url</th>\n",
       "    </tr>\n",
       "  </thead>\n",
       "  <tbody>\n",
       "    <tr>\n",
       "      <th>0</th>\n",
       "      <td>jptq5n</td>\n",
       "      <td>EVERYONE WHO TURNED OUT IN 2020 NEEDS TO COME ...</td>\n",
       "      <td>2910</td>\n",
       "      <td>politics</td>\n",
       "      <td>top</td>\n",
       "      <td>Megathread: Joe Biden Projected to Defeat Pres...</td>\n",
       "      <td>214313</td>\n",
       "      <td>80928</td>\n",
       "      <td>jptq5n</td>\n",
       "      <td>https://www.reddit.com/r/politics/comments/jpt...</td>\n",
       "    </tr>\n",
       "    <tr>\n",
       "      <th>1</th>\n",
       "      <td>jptq5n</td>\n",
       "      <td>Never won the popular vote, got impeached, los...</td>\n",
       "      <td>2682</td>\n",
       "      <td>politics</td>\n",
       "      <td>top</td>\n",
       "      <td>Megathread: Joe Biden Projected to Defeat Pres...</td>\n",
       "      <td>214313</td>\n",
       "      <td>80928</td>\n",
       "      <td>jptq5n</td>\n",
       "      <td>https://www.reddit.com/r/politics/comments/jpt...</td>\n",
       "    </tr>\n",
       "    <tr>\n",
       "      <th>2</th>\n",
       "      <td>jptq5n</td>\n",
       "      <td>As German I understand how a country can be sc...</td>\n",
       "      <td>2446</td>\n",
       "      <td>politics</td>\n",
       "      <td>top</td>\n",
       "      <td>Megathread: Joe Biden Projected to Defeat Pres...</td>\n",
       "      <td>214313</td>\n",
       "      <td>80928</td>\n",
       "      <td>jptq5n</td>\n",
       "      <td>https://www.reddit.com/r/politics/comments/jpt...</td>\n",
       "    </tr>\n",
       "    <tr>\n",
       "      <th>3</th>\n",
       "      <td>jptq5n</td>\n",
       "      <td>Let us not soon forget that this victory was n...</td>\n",
       "      <td>10374</td>\n",
       "      <td>politics</td>\n",
       "      <td>top</td>\n",
       "      <td>Megathread: Joe Biden Projected to Defeat Pres...</td>\n",
       "      <td>214313</td>\n",
       "      <td>80928</td>\n",
       "      <td>jptq5n</td>\n",
       "      <td>https://www.reddit.com/r/politics/comments/jpt...</td>\n",
       "    </tr>\n",
       "    <tr>\n",
       "      <th>4</th>\n",
       "      <td>jptq5n</td>\n",
       "      <td>Trump is living the 2020 experience - got Covi...</td>\n",
       "      <td>6071</td>\n",
       "      <td>politics</td>\n",
       "      <td>top</td>\n",
       "      <td>Megathread: Joe Biden Projected to Defeat Pres...</td>\n",
       "      <td>214313</td>\n",
       "      <td>80928</td>\n",
       "      <td>jptq5n</td>\n",
       "      <td>https://www.reddit.com/r/politics/comments/jpt...</td>\n",
       "    </tr>\n",
       "  </tbody>\n",
       "</table>\n",
       "</div>"
      ],
      "text/plain": [
       "  post_id                                               body  score_x  \\\n",
       "0  jptq5n  EVERYONE WHO TURNED OUT IN 2020 NEEDS TO COME ...     2910   \n",
       "1  jptq5n  Never won the popular vote, got impeached, los...     2682   \n",
       "2  jptq5n  As German I understand how a country can be sc...     2446   \n",
       "3  jptq5n  Let us not soon forget that this victory was n...    10374   \n",
       "4  jptq5n  Trump is living the 2020 experience - got Covi...     6071   \n",
       "\n",
       "  subreddit category                                              title  \\\n",
       "0  politics      top  Megathread: Joe Biden Projected to Defeat Pres...   \n",
       "1  politics      top  Megathread: Joe Biden Projected to Defeat Pres...   \n",
       "2  politics      top  Megathread: Joe Biden Projected to Defeat Pres...   \n",
       "3  politics      top  Megathread: Joe Biden Projected to Defeat Pres...   \n",
       "4  politics      top  Megathread: Joe Biden Projected to Defeat Pres...   \n",
       "\n",
       "   score_y  num_comments      id  \\\n",
       "0   214313         80928  jptq5n   \n",
       "1   214313         80928  jptq5n   \n",
       "2   214313         80928  jptq5n   \n",
       "3   214313         80928  jptq5n   \n",
       "4   214313         80928  jptq5n   \n",
       "\n",
       "                                                 url  \n",
       "0  https://www.reddit.com/r/politics/comments/jpt...  \n",
       "1  https://www.reddit.com/r/politics/comments/jpt...  \n",
       "2  https://www.reddit.com/r/politics/comments/jpt...  \n",
       "3  https://www.reddit.com/r/politics/comments/jpt...  \n",
       "4  https://www.reddit.com/r/politics/comments/jpt...  "
      ]
     },
     "execution_count": 26,
     "metadata": {},
     "output_type": "execute_result"
    }
   ],
   "source": [
    "# Merge postsDF-commentDF\n",
    "dfMerged = dfComments.merge(dfPost, left_on=\"post_id\", right_on=\"id\", how=\"left\")\n",
    "\n",
    "# Exportar\n",
    "dfMerged.to_csv(\"./out/comments_linked_posts.csv\", index=False, encoding=\"utf-8\")\n",
    "dfMerged.head()"
   ]
  }
 ],
 "metadata": {
  "kernelspec": {
   "display_name": "Python (conda TU_ENV)",
   "language": "python",
   "name": "tu_env"
  },
  "language_info": {
   "codemirror_mode": {
    "name": "ipython",
    "version": 3
   },
   "file_extension": ".py",
   "mimetype": "text/x-python",
   "name": "python",
   "nbconvert_exporter": "python",
   "pygments_lexer": "ipython3",
   "version": "3.11.13"
  }
 },
 "nbformat": 4,
 "nbformat_minor": 5
}
